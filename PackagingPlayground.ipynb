{
 "cells": [
  {
   "cell_type": "code",
   "execution_count": 12,
   "metadata": {},
   "outputs": [
    {
     "name": "stdout",
     "output_type": "stream",
     "text": [
      "Looking in indexes: https://test.pypi.org/simple/\n",
      "Collecting lambdata-eyvonne==0.1.2\n",
      "  Downloading https://test-files.pythonhosted.org/packages/0d/d7/6997c20a30345f4503c102a7156c795772375127ce09ffad75fc5118e72d/lambdata_eyvonne-0.1.2-py3-none-any.whl\n",
      "Requirement already satisfied: pandas in /Users/eyvonnegeordan/anaconda3/lib/python3.7/site-packages (from lambdata-eyvonne==0.1.2) (0.24.2)\n",
      "Requirement already satisfied: numpy in /Users/eyvonnegeordan/anaconda3/lib/python3.7/site-packages (from lambdata-eyvonne==0.1.2) (1.16.3)\n",
      "Requirement already satisfied: pytz>=2011k in /Users/eyvonnegeordan/anaconda3/lib/python3.7/site-packages (from pandas->lambdata-eyvonne==0.1.2) (2019.1)\n",
      "Requirement already satisfied: python-dateutil>=2.5.0 in /Users/eyvonnegeordan/anaconda3/lib/python3.7/site-packages (from pandas->lambdata-eyvonne==0.1.2) (2.8.0)\n",
      "Requirement already satisfied: six>=1.5 in /Users/eyvonnegeordan/anaconda3/lib/python3.7/site-packages (from python-dateutil>=2.5.0->pandas->lambdata-eyvonne==0.1.2) (1.12.0)\n",
      "Installing collected packages: lambdata-eyvonne\n",
      "  Found existing installation: lambdata-eyvonne 0.1.1\n",
      "    Uninstalling lambdata-eyvonne-0.1.1:\n",
      "      Successfully uninstalled lambdata-eyvonne-0.1.1\n",
      "Successfully installed lambdata-eyvonne-0.1.2\n"
     ]
    }
   ],
   "source": [
    "!pip install -i https://test.pypi.org/simple/ lambdata-eyvonne==0.1.2"
   ]
  },
  {
   "cell_type": "code",
   "execution_count": 1,
   "metadata": {},
   "outputs": [],
   "source": [
    "import lamdata_eyvonne"
   ]
  },
  {
   "cell_type": "code",
   "execution_count": null,
   "metadata": {},
   "outputs": [],
   "source": []
  }
 ],
 "metadata": {
  "kernelspec": {
   "display_name": "Python 3",
   "language": "python",
   "name": "python3"
  },
  "language_info": {
   "codemirror_mode": {
    "name": "ipython",
    "version": 3
   },
   "file_extension": ".py",
   "mimetype": "text/x-python",
   "name": "python",
   "nbconvert_exporter": "python",
   "pygments_lexer": "ipython3",
   "version": "3.7.3"
  }
 },
 "nbformat": 4,
 "nbformat_minor": 4
}
